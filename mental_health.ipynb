{
 "cells": [
  {
   "cell_type": "markdown",
   "metadata": {},
   "source": [
    "# Sentinel Minds: Detecting Depression with Machine Learning"
   ]
  },
  {
   "cell_type": "markdown",
   "metadata": {
    "vscode": {
     "languageId": "markdown"
    }
   },
   "source": [
    "![Mental Health Awareness](image2.cms)\n"
   ]
  },
  {
   "cell_type": "markdown",
   "metadata": {},
   "source": [
    "## Introduction\n",
    "Mental health is a critical aspect of overall well-being, yet it is often overlooked or stigmatized. With rising levels of academic and work pressure, financial stress, and other contributing factors, understanding and addressing mental health concerns, especially depression, is vital. This project aims to leverage data analysis and machine learning techniques to predict whether an individual is experiencing depression based on various factors such as age, gender, academic/work pressure, satisfaction levels, sleep patterns, and family history.\n"
   ]
  },
  {
   "cell_type": "markdown",
   "metadata": {},
   "source": [
    "## Dataset\n",
    "The dataset contains information on individuals, including demographic details, lifestyle habits, and mental health indicators:\n",
    "- **Demographics**: ID, Name, Gender, Age, City\n",
    "- **Academic/Professional Details**: Profession, Degree, Working Professional/Student, CGPA\n",
    "- **Stress Factors**: Academic/Work Pressure, Financial Stress\n",
    "- **Satisfaction Levels**: Study Satisfaction, Job Satisfaction\n",
    "- **Health and Lifestyle**: Sleep Duration, Dietary Habits, Family History of Mental Illness\n",
    "- **Outcome Variable**: Whether the individual has experienced depression or suicidal thoughts."
   ]
  },
  {
   "cell_type": "markdown",
   "metadata": {},
   "source": [
    "## Project Objective\n",
    "The objective of this project is to analyze the dataset, clean and preprocess the data, and train machine learning models to predict if an individual is likely to have depression. This can help in early detection and intervention strategies, contributing to better mental health outcomes.\n"
   ]
  },
  {
   "cell_type": "markdown",
   "metadata": {},
   "source": [
    "## Steps Performed\n",
    "1. **Data Cleaning**: Handled missing and inconsistent data.\n",
    "2. **Exploratory Data Analysis**: Identified patterns and relationships in the data.\n",
    "3. **Feature Engineering**: Selected relevant features for prediction.\n",
    "4. **Model Training**: Applied various machine learning models to classify individuals as experiencing depression or not.\n",
    "5. **Evaluation**: Assessed model performance to determine the most effective approach.\n"
   ]
  },
  {
   "cell_type": "code",
   "execution_count": 80,
   "metadata": {},
   "outputs": [],
   "source": [
    "import pandas as pd\n",
    "import numpy as np\n",
    "import seaborn as sns\n",
    "import matplotlib.pyplot as plt "
   ]
  },
  {
   "cell_type": "code",
   "execution_count": null,
   "metadata": {},
   "outputs": [],
   "source": [
    "# Load the data\n",
    "data = pd.read_csv(\"train.csv\")"
   ]
  },
  {
   "cell_type": "code",
   "execution_count": 142,
   "metadata": {},
   "outputs": [
    {
     "name": "stdout",
     "output_type": "stream",
     "text": [
      "<class 'pandas.core.frame.DataFrame'>\n",
      "RangeIndex: 140700 entries, 0 to 140699\n",
      "Data columns (total 20 columns):\n",
      " #   Column                                 Non-Null Count   Dtype  \n",
      "---  ------                                 --------------   -----  \n",
      " 0   id                                     140700 non-null  int64  \n",
      " 1   Name                                   140700 non-null  object \n",
      " 2   Gender                                 140700 non-null  object \n",
      " 3   Age                                    140700 non-null  float64\n",
      " 4   City                                   140700 non-null  object \n",
      " 5   Working Professional or Student        140700 non-null  object \n",
      " 6   Profession                             104070 non-null  object \n",
      " 7   Academic Pressure                      27897 non-null   float64\n",
      " 8   Work Pressure                          112782 non-null  float64\n",
      " 9   CGPA                                   27898 non-null   float64\n",
      " 10  Study Satisfaction                     27897 non-null   float64\n",
      " 11  Job Satisfaction                       112790 non-null  float64\n",
      " 12  Sleep Duration                         140700 non-null  object \n",
      " 13  Dietary Habits                         140696 non-null  object \n",
      " 14  Degree                                 140698 non-null  object \n",
      " 15  Have you ever had suicidal thoughts ?  140700 non-null  object \n",
      " 16  Work/Study Hours                       140700 non-null  float64\n",
      " 17  Financial Stress                       140696 non-null  float64\n",
      " 18  Family History of Mental Illness       140700 non-null  object \n",
      " 19  Depression                             140700 non-null  int64  \n",
      "dtypes: float64(8), int64(2), object(10)\n",
      "memory usage: 21.5+ MB\n"
     ]
    }
   ],
   "source": [
    "# Understanding the data\n",
    "data.info()"
   ]
  },
  {
   "cell_type": "code",
   "execution_count": 143,
   "metadata": {},
   "outputs": [
    {
     "data": {
      "text/html": [
       "<div>\n",
       "<style scoped>\n",
       "    .dataframe tbody tr th:only-of-type {\n",
       "        vertical-align: middle;\n",
       "    }\n",
       "\n",
       "    .dataframe tbody tr th {\n",
       "        vertical-align: top;\n",
       "    }\n",
       "\n",
       "    .dataframe thead th {\n",
       "        text-align: right;\n",
       "    }\n",
       "</style>\n",
       "<table border=\"1\" class=\"dataframe\">\n",
       "  <thead>\n",
       "    <tr style=\"text-align: right;\">\n",
       "      <th></th>\n",
       "      <th>id</th>\n",
       "      <th>Age</th>\n",
       "      <th>Academic Pressure</th>\n",
       "      <th>Work Pressure</th>\n",
       "      <th>CGPA</th>\n",
       "      <th>Study Satisfaction</th>\n",
       "      <th>Job Satisfaction</th>\n",
       "      <th>Work/Study Hours</th>\n",
       "      <th>Financial Stress</th>\n",
       "      <th>Depression</th>\n",
       "    </tr>\n",
       "  </thead>\n",
       "  <tbody>\n",
       "    <tr>\n",
       "      <th>count</th>\n",
       "      <td>140700.000000</td>\n",
       "      <td>140700.000000</td>\n",
       "      <td>27897.000000</td>\n",
       "      <td>112782.000000</td>\n",
       "      <td>27898.000000</td>\n",
       "      <td>27897.000000</td>\n",
       "      <td>112790.000000</td>\n",
       "      <td>140700.000000</td>\n",
       "      <td>140696.000000</td>\n",
       "      <td>140700.000000</td>\n",
       "    </tr>\n",
       "    <tr>\n",
       "      <th>mean</th>\n",
       "      <td>70349.500000</td>\n",
       "      <td>40.388621</td>\n",
       "      <td>3.142273</td>\n",
       "      <td>2.998998</td>\n",
       "      <td>7.658636</td>\n",
       "      <td>2.944940</td>\n",
       "      <td>2.974404</td>\n",
       "      <td>6.252679</td>\n",
       "      <td>2.988983</td>\n",
       "      <td>0.181713</td>\n",
       "    </tr>\n",
       "    <tr>\n",
       "      <th>std</th>\n",
       "      <td>40616.735775</td>\n",
       "      <td>12.384099</td>\n",
       "      <td>1.380457</td>\n",
       "      <td>1.405771</td>\n",
       "      <td>1.464466</td>\n",
       "      <td>1.360197</td>\n",
       "      <td>1.416078</td>\n",
       "      <td>3.853615</td>\n",
       "      <td>1.413633</td>\n",
       "      <td>0.385609</td>\n",
       "    </tr>\n",
       "    <tr>\n",
       "      <th>min</th>\n",
       "      <td>0.000000</td>\n",
       "      <td>18.000000</td>\n",
       "      <td>1.000000</td>\n",
       "      <td>1.000000</td>\n",
       "      <td>5.030000</td>\n",
       "      <td>1.000000</td>\n",
       "      <td>1.000000</td>\n",
       "      <td>0.000000</td>\n",
       "      <td>1.000000</td>\n",
       "      <td>0.000000</td>\n",
       "    </tr>\n",
       "    <tr>\n",
       "      <th>25%</th>\n",
       "      <td>35174.750000</td>\n",
       "      <td>29.000000</td>\n",
       "      <td>2.000000</td>\n",
       "      <td>2.000000</td>\n",
       "      <td>6.290000</td>\n",
       "      <td>2.000000</td>\n",
       "      <td>2.000000</td>\n",
       "      <td>3.000000</td>\n",
       "      <td>2.000000</td>\n",
       "      <td>0.000000</td>\n",
       "    </tr>\n",
       "    <tr>\n",
       "      <th>50%</th>\n",
       "      <td>70349.500000</td>\n",
       "      <td>42.000000</td>\n",
       "      <td>3.000000</td>\n",
       "      <td>3.000000</td>\n",
       "      <td>7.770000</td>\n",
       "      <td>3.000000</td>\n",
       "      <td>3.000000</td>\n",
       "      <td>6.000000</td>\n",
       "      <td>3.000000</td>\n",
       "      <td>0.000000</td>\n",
       "    </tr>\n",
       "    <tr>\n",
       "      <th>75%</th>\n",
       "      <td>105524.250000</td>\n",
       "      <td>51.000000</td>\n",
       "      <td>4.000000</td>\n",
       "      <td>4.000000</td>\n",
       "      <td>8.920000</td>\n",
       "      <td>4.000000</td>\n",
       "      <td>4.000000</td>\n",
       "      <td>10.000000</td>\n",
       "      <td>4.000000</td>\n",
       "      <td>0.000000</td>\n",
       "    </tr>\n",
       "    <tr>\n",
       "      <th>max</th>\n",
       "      <td>140699.000000</td>\n",
       "      <td>60.000000</td>\n",
       "      <td>5.000000</td>\n",
       "      <td>5.000000</td>\n",
       "      <td>10.000000</td>\n",
       "      <td>5.000000</td>\n",
       "      <td>5.000000</td>\n",
       "      <td>12.000000</td>\n",
       "      <td>5.000000</td>\n",
       "      <td>1.000000</td>\n",
       "    </tr>\n",
       "  </tbody>\n",
       "</table>\n",
       "</div>"
      ],
      "text/plain": [
       "                  id            Age  Academic Pressure  Work Pressure  \\\n",
       "count  140700.000000  140700.000000       27897.000000  112782.000000   \n",
       "mean    70349.500000      40.388621           3.142273       2.998998   \n",
       "std     40616.735775      12.384099           1.380457       1.405771   \n",
       "min         0.000000      18.000000           1.000000       1.000000   \n",
       "25%     35174.750000      29.000000           2.000000       2.000000   \n",
       "50%     70349.500000      42.000000           3.000000       3.000000   \n",
       "75%    105524.250000      51.000000           4.000000       4.000000   \n",
       "max    140699.000000      60.000000           5.000000       5.000000   \n",
       "\n",
       "               CGPA  Study Satisfaction  Job Satisfaction  Work/Study Hours  \\\n",
       "count  27898.000000        27897.000000     112790.000000     140700.000000   \n",
       "mean       7.658636            2.944940          2.974404          6.252679   \n",
       "std        1.464466            1.360197          1.416078          3.853615   \n",
       "min        5.030000            1.000000          1.000000          0.000000   \n",
       "25%        6.290000            2.000000          2.000000          3.000000   \n",
       "50%        7.770000            3.000000          3.000000          6.000000   \n",
       "75%        8.920000            4.000000          4.000000         10.000000   \n",
       "max       10.000000            5.000000          5.000000         12.000000   \n",
       "\n",
       "       Financial Stress     Depression  \n",
       "count     140696.000000  140700.000000  \n",
       "mean           2.988983       0.181713  \n",
       "std            1.413633       0.385609  \n",
       "min            1.000000       0.000000  \n",
       "25%            2.000000       0.000000  \n",
       "50%            3.000000       0.000000  \n",
       "75%            4.000000       0.000000  \n",
       "max            5.000000       1.000000  "
      ]
     },
     "execution_count": 143,
     "metadata": {},
     "output_type": "execute_result"
    }
   ],
   "source": [
    "# Checking statistical summary of the data\n",
    "data.describe()"
   ]
  },
  {
   "cell_type": "code",
   "execution_count": 144,
   "metadata": {},
   "outputs": [
    {
     "data": {
      "text/html": [
       "<div>\n",
       "<style scoped>\n",
       "    .dataframe tbody tr th:only-of-type {\n",
       "        vertical-align: middle;\n",
       "    }\n",
       "\n",
       "    .dataframe tbody tr th {\n",
       "        vertical-align: top;\n",
       "    }\n",
       "\n",
       "    .dataframe thead th {\n",
       "        text-align: right;\n",
       "    }\n",
       "</style>\n",
       "<table border=\"1\" class=\"dataframe\">\n",
       "  <thead>\n",
       "    <tr style=\"text-align: right;\">\n",
       "      <th></th>\n",
       "      <th>id</th>\n",
       "      <th>Name</th>\n",
       "      <th>Gender</th>\n",
       "      <th>Age</th>\n",
       "      <th>City</th>\n",
       "      <th>Working Professional or Student</th>\n",
       "      <th>Profession</th>\n",
       "      <th>Academic Pressure</th>\n",
       "      <th>Work Pressure</th>\n",
       "      <th>CGPA</th>\n",
       "      <th>Study Satisfaction</th>\n",
       "      <th>Job Satisfaction</th>\n",
       "      <th>Sleep Duration</th>\n",
       "      <th>Dietary Habits</th>\n",
       "      <th>Degree</th>\n",
       "      <th>Have you ever had suicidal thoughts ?</th>\n",
       "      <th>Work/Study Hours</th>\n",
       "      <th>Financial Stress</th>\n",
       "      <th>Family History of Mental Illness</th>\n",
       "      <th>Depression</th>\n",
       "    </tr>\n",
       "  </thead>\n",
       "  <tbody>\n",
       "    <tr>\n",
       "      <th>0</th>\n",
       "      <td>0</td>\n",
       "      <td>Aaradhya</td>\n",
       "      <td>Female</td>\n",
       "      <td>49.0</td>\n",
       "      <td>Ludhiana</td>\n",
       "      <td>Working Professional</td>\n",
       "      <td>Chef</td>\n",
       "      <td>NaN</td>\n",
       "      <td>5.0</td>\n",
       "      <td>NaN</td>\n",
       "      <td>NaN</td>\n",
       "      <td>2.0</td>\n",
       "      <td>More than 8 hours</td>\n",
       "      <td>Healthy</td>\n",
       "      <td>BHM</td>\n",
       "      <td>No</td>\n",
       "      <td>1.0</td>\n",
       "      <td>2.0</td>\n",
       "      <td>No</td>\n",
       "      <td>0</td>\n",
       "    </tr>\n",
       "    <tr>\n",
       "      <th>1</th>\n",
       "      <td>1</td>\n",
       "      <td>Vivan</td>\n",
       "      <td>Male</td>\n",
       "      <td>26.0</td>\n",
       "      <td>Varanasi</td>\n",
       "      <td>Working Professional</td>\n",
       "      <td>Teacher</td>\n",
       "      <td>NaN</td>\n",
       "      <td>4.0</td>\n",
       "      <td>NaN</td>\n",
       "      <td>NaN</td>\n",
       "      <td>3.0</td>\n",
       "      <td>Less than 5 hours</td>\n",
       "      <td>Unhealthy</td>\n",
       "      <td>LLB</td>\n",
       "      <td>Yes</td>\n",
       "      <td>7.0</td>\n",
       "      <td>3.0</td>\n",
       "      <td>No</td>\n",
       "      <td>1</td>\n",
       "    </tr>\n",
       "    <tr>\n",
       "      <th>2</th>\n",
       "      <td>2</td>\n",
       "      <td>Yuvraj</td>\n",
       "      <td>Male</td>\n",
       "      <td>33.0</td>\n",
       "      <td>Visakhapatnam</td>\n",
       "      <td>Student</td>\n",
       "      <td>NaN</td>\n",
       "      <td>5.0</td>\n",
       "      <td>NaN</td>\n",
       "      <td>8.97</td>\n",
       "      <td>2.0</td>\n",
       "      <td>NaN</td>\n",
       "      <td>5-6 hours</td>\n",
       "      <td>Healthy</td>\n",
       "      <td>B.Pharm</td>\n",
       "      <td>Yes</td>\n",
       "      <td>3.0</td>\n",
       "      <td>1.0</td>\n",
       "      <td>No</td>\n",
       "      <td>1</td>\n",
       "    </tr>\n",
       "    <tr>\n",
       "      <th>3</th>\n",
       "      <td>3</td>\n",
       "      <td>Yuvraj</td>\n",
       "      <td>Male</td>\n",
       "      <td>22.0</td>\n",
       "      <td>Mumbai</td>\n",
       "      <td>Working Professional</td>\n",
       "      <td>Teacher</td>\n",
       "      <td>NaN</td>\n",
       "      <td>5.0</td>\n",
       "      <td>NaN</td>\n",
       "      <td>NaN</td>\n",
       "      <td>1.0</td>\n",
       "      <td>Less than 5 hours</td>\n",
       "      <td>Moderate</td>\n",
       "      <td>BBA</td>\n",
       "      <td>Yes</td>\n",
       "      <td>10.0</td>\n",
       "      <td>1.0</td>\n",
       "      <td>Yes</td>\n",
       "      <td>1</td>\n",
       "    </tr>\n",
       "    <tr>\n",
       "      <th>4</th>\n",
       "      <td>4</td>\n",
       "      <td>Rhea</td>\n",
       "      <td>Female</td>\n",
       "      <td>30.0</td>\n",
       "      <td>Kanpur</td>\n",
       "      <td>Working Professional</td>\n",
       "      <td>Business Analyst</td>\n",
       "      <td>NaN</td>\n",
       "      <td>1.0</td>\n",
       "      <td>NaN</td>\n",
       "      <td>NaN</td>\n",
       "      <td>1.0</td>\n",
       "      <td>5-6 hours</td>\n",
       "      <td>Unhealthy</td>\n",
       "      <td>BBA</td>\n",
       "      <td>Yes</td>\n",
       "      <td>9.0</td>\n",
       "      <td>4.0</td>\n",
       "      <td>Yes</td>\n",
       "      <td>0</td>\n",
       "    </tr>\n",
       "  </tbody>\n",
       "</table>\n",
       "</div>"
      ],
      "text/plain": [
       "   id      Name  Gender   Age           City Working Professional or Student  \\\n",
       "0   0  Aaradhya  Female  49.0       Ludhiana            Working Professional   \n",
       "1   1     Vivan    Male  26.0       Varanasi            Working Professional   \n",
       "2   2    Yuvraj    Male  33.0  Visakhapatnam                         Student   \n",
       "3   3    Yuvraj    Male  22.0         Mumbai            Working Professional   \n",
       "4   4      Rhea  Female  30.0         Kanpur            Working Professional   \n",
       "\n",
       "         Profession  Academic Pressure  Work Pressure  CGPA  \\\n",
       "0              Chef                NaN            5.0   NaN   \n",
       "1           Teacher                NaN            4.0   NaN   \n",
       "2               NaN                5.0            NaN  8.97   \n",
       "3           Teacher                NaN            5.0   NaN   \n",
       "4  Business Analyst                NaN            1.0   NaN   \n",
       "\n",
       "   Study Satisfaction  Job Satisfaction     Sleep Duration Dietary Habits  \\\n",
       "0                 NaN               2.0  More than 8 hours        Healthy   \n",
       "1                 NaN               3.0  Less than 5 hours      Unhealthy   \n",
       "2                 2.0               NaN          5-6 hours        Healthy   \n",
       "3                 NaN               1.0  Less than 5 hours       Moderate   \n",
       "4                 NaN               1.0          5-6 hours      Unhealthy   \n",
       "\n",
       "    Degree Have you ever had suicidal thoughts ?  Work/Study Hours  \\\n",
       "0      BHM                                    No               1.0   \n",
       "1      LLB                                   Yes               7.0   \n",
       "2  B.Pharm                                   Yes               3.0   \n",
       "3      BBA                                   Yes              10.0   \n",
       "4      BBA                                   Yes               9.0   \n",
       "\n",
       "   Financial Stress Family History of Mental Illness  Depression  \n",
       "0               2.0                               No           0  \n",
       "1               3.0                               No           1  \n",
       "2               1.0                               No           1  \n",
       "3               1.0                              Yes           1  \n",
       "4               4.0                              Yes           0  "
      ]
     },
     "execution_count": 144,
     "metadata": {},
     "output_type": "execute_result"
    }
   ],
   "source": [
    "# Checking for the first 5 rows of the data\n",
    "data.head()"
   ]
  },
  {
   "cell_type": "code",
   "execution_count": 145,
   "metadata": {},
   "outputs": [
    {
     "data": {
      "text/plain": [
       "<Axes: >"
      ]
     },
     "execution_count": 145,
     "metadata": {},
     "output_type": "execute_result"
    },
    {
     "data": {
      "image/png": "[encoded data removed]",
      "text/plain": [
       "<Figure size 640x480 with 1 Axes>"
      ]
     },
     "metadata": {},
     "output_type": "display_data"
    }
   ],
   "source": [
    "# Checking for null values\n",
    "sns.heatmap(data.isnull(),yticklabels=False,cbar=False,cmap='viridis')"
   ]
  },
  {
   "cell_type": "code",
   "execution_count": 146,
   "metadata": {},
   "outputs": [
    {
     "data": {
      "text/plain": [
       "<seaborn.axisgrid.FacetGrid at 0x1f5b2d90490>"
      ]
     },
     "execution_count": 146,
     "metadata": {},
     "output_type": "execute_result"
    },
    {
     "data": {
      "image/png": "[encoded data removed]",
      "text/plain": [
       "<Figure size 500x500 with 1 Axes>"
      ]
     },
     "metadata": {},
     "output_type": "display_data"
    }
   ],
   "source": [
    "sns.displot(data['Age'].dropna(),kde=False,color='darkred',bins=30)"
   ]
  },
  {
   "cell_type": "code",
   "execution_count": 147,
   "metadata": {},
   "outputs": [
    {
     "data": {
      "text/plain": [
       "<Axes: xlabel='Depression', ylabel='count'>"
      ]
     },
     "execution_count": 147,
     "metadata": {},
     "output_type": "execute_result"
    },
    {
     "data": {
      "image/png": "[encoded data removed]",
      "text/plain": [
       "<Figure size 640x480 with 1 Axes>"
      ]
     },
     "metadata": {},
     "output_type": "display_data"
    }
   ],
   "source": [
    "sns.countplot(x=data[\"Depression\"])"
   ]
  },
  {
   "cell_type": "code",
   "execution_count": 148,
   "metadata": {},
   "outputs": [
    {
     "data": {
      "text/plain": [
       "<Axes: xlabel='Depression', ylabel='count'>"
      ]
     },
     "execution_count": 148,
     "metadata": {},
     "output_type": "execute_result"
    },
    {
     "data": {
      "image/png": "[encoded data removed]",
      "text/plain": [
       "<Figure size 640x480 with 1 Axes>"
      ]
     },
     "metadata": {},
     "output_type": "display_data"
    }
   ],
   "source": [
    "sns.countplot(x=data[\"Depression\"], hue=data[\"Age\"])"
   ]
  },
  {
   "cell_type": "code",
   "execution_count": 190,
   "metadata": {},
   "outputs": [],
   "source": [
    "#Dropping id and name columns\n",
    "df = data.drop(columns = [\"id\",\"Name\"],axis=1)"
   ]
  },
  {
   "cell_type": "code",
   "execution_count": 191,
   "metadata": {},
   "outputs": [],
   "source": [
    "# Merging Profession and Working Professional or Student\n",
    "df.loc[df[\"Profession\"].isnull() & (df[\"Working Professional or Student\"] == \"Student\"), \"Profession\"] = \"Student\""
   ]
  },
  {
   "cell_type": "code",
   "execution_count": 192,
   "metadata": {},
   "outputs": [],
   "source": [
    "df[\"Job/ Study Satisfaction\"] = df.apply(\n",
    "    lambda row: row[\"Study Satisfaction\"] if pd.isnull(row[\"Job Satisfaction\"]) else row[\"Job Satisfaction\"], axis=1\n",
    ")"
   ]
  },
  {
   "cell_type": "code",
   "execution_count": 193,
   "metadata": {},
   "outputs": [],
   "source": [
    "df[\"Work/ Academic Pressure\"] = df.apply(\n",
    "    lambda row: row[\"Academic Pressure\"] if pd.isnull(row[\"Work Pressure\"]) else row[\"Work Pressure\"], axis=1\n",
    ")"
   ]
  },
  {
   "cell_type": "code",
   "execution_count": 194,
   "metadata": {},
   "outputs": [
    {
     "data": {
      "text/plain": [
       "<Axes: xlabel='Depression', ylabel='count'>"
      ]
     },
     "execution_count": 194,
     "metadata": {},
     "output_type": "execute_result"
    },
    {
     "data": {
      "image/png": "[encoded data removed]",
      "text/plain": [
       "<Figure size 640x480 with 1 Axes>"
      ]
     },
     "metadata": {},
     "output_type": "display_data"
    }
   ],
   "source": [
    "sns.countplot(x=df[\"Depression\"], hue=df[\"Work/ Academic Pressure\"])"
   ]
  },
  {
   "cell_type": "code",
   "execution_count": 195,
   "metadata": {},
   "outputs": [
    {
     "data": {
      "text/plain": [
       "<Axes: xlabel='Depression', ylabel='count'>"
      ]
     },
     "execution_count": 195,
     "metadata": {},
     "output_type": "execute_result"
    },
    {
     "data": {
      "image/png": "[encoded data removed]",
      "text/plain": [
       "<Figure size 640x480 with 1 Axes>"
      ]
     },
     "metadata": {},
     "output_type": "display_data"
    }
   ],
   "source": [
    "sns.countplot(x=df[\"Depression\"], hue=df[\"Job/ Study Satisfaction\"])"
   ]
  },
  {
   "cell_type": "code",
   "execution_count": 196,
   "metadata": {},
   "outputs": [
    {
     "name": "stdout",
     "output_type": "stream",
     "text": [
      "16336\n",
      "112802\n",
      "0.1448201273027074\n"
     ]
    }
   ],
   "source": [
    "count = df[(df['CGPA'].notnull()) & (df['Depression'] == 1)].shape[0]\n",
    "print(count)\n",
    "count_null_cgpa = df['CGPA'].isnull().sum()\n",
    "print(count_null_cgpa)\n",
    "print(count/count_null_cgpa)"
   ]
  },
  {
   "cell_type": "code",
   "execution_count": 197,
   "metadata": {},
   "outputs": [
    {
     "name": "stdout",
     "output_type": "stream",
     "text": [
      "Percentage of null values in CGPA: 80.17199715707179%\n"
     ]
    }
   ],
   "source": [
    "null_percentage_cgpa = (data['CGPA'].isnull().sum() / len(data)) * 100\n",
    "print(f\"Percentage of null values in CGPA: {null_percentage_cgpa}%\")"
   ]
  },
  {
   "cell_type": "markdown",
   "metadata": {},
   "source": [
    "~80% of CGPA column is Empty so we can drop that column"
   ]
  },
  {
   "cell_type": "code",
   "execution_count": 198,
   "metadata": {},
   "outputs": [],
   "source": [
    "#Dropping CGPA and also the columns which we merged or dont need\n",
    "df = df.drop(columns = [\"CGPA\", \"Academic Pressure\", \"Work Pressure\", \"Job Satisfaction\", \"Study Satisfaction\"],axis=1)"
   ]
  },
  {
   "cell_type": "code",
   "execution_count": 199,
   "metadata": {},
   "outputs": [
    {
     "data": {
      "text/plain": [
       "City\n",
       "Kalyan         6591\n",
       "Patna          5924\n",
       "Vasai-Virar    5765\n",
       "Kolkata        5689\n",
       "Ahmedabad      5613\n",
       "               ... \n",
       "Shrey             1\n",
       "Ivaan             1\n",
       "Vaanya            1\n",
       "Gaurav            1\n",
       "Unirar            1\n",
       "Name: count, Length: 98, dtype: int64"
      ]
     },
     "execution_count": 199,
     "metadata": {},
     "output_type": "execute_result"
    }
   ],
   "source": [
    "#Getting the count of each city\n",
    "df[\"City\"].value_counts()"
   ]
  },
  {
   "cell_type": "code",
   "execution_count": 200,
   "metadata": {},
   "outputs": [
    {
     "data": {
      "text/plain": [
       "array(['Ludhiana', 'Varanasi', 'Visakhapatnam', 'Mumbai', 'Kanpur',\n",
       "       'Ahmedabad', 'Thane', 'Nashik', 'Bangalore', 'Patna', 'Rajkot',\n",
       "       'Jaipur', 'Pune', 'Lucknow', 'Meerut', 'Agra', 'Surat',\n",
       "       'Faridabad', 'Hyderabad', 'Srinagar', 'Ghaziabad', 'Kolkata',\n",
       "       'Chennai', 'Kalyan', 'Nagpur', 'Vadodara', 'Vasai-Virar', 'Delhi',\n",
       "       'Bhopal', 'Indore', 'Ishanabad', 'Vidhi', 'Ayush', 'Gurgaon',\n",
       "       'Krishna', 'Aishwarya', 'Keshav', 'Harsha', 'Nalini', 'Aditya',\n",
       "       'Malyansh', 'Raghavendra', 'Saanvi', 'M.Tech', 'Bhavna',\n",
       "       'Less Delhi', 'Nandini', 'M.Com', 'Plata', 'Atharv', 'Pratyush',\n",
       "       'City', '3.0', 'Less than 5 Kalyan', 'MCA', 'Mira', 'Moreadhyay',\n",
       "       'Morena', 'Ishkarsh', 'Kashk', 'Mihir', 'Vidya', 'Tolkata', 'Anvi',\n",
       "       'Krinda', 'Ayansh', 'Shrey', 'Ivaan', 'Vaanya', 'Gaurav', 'Harsh',\n",
       "       'Reyansh', 'Kashish', 'Kibara', 'Vaishnavi', 'Chhavi', 'Parth',\n",
       "       'Mahi', 'Tushar', 'MSc', 'No', 'Rashi', 'ME', 'Molkata',\n",
       "       'Researcher', 'Kagan', 'Armaan', 'Ithal', 'Nalyan', 'Dhruv',\n",
       "       'Galesabad', 'Itheg', 'Aaradhya', 'Pooja', 'Khushi', 'Khaziabad',\n",
       "       'Jhanvi', 'Unirar'], dtype=object)"
      ]
     },
     "execution_count": 200,
     "metadata": {},
     "output_type": "execute_result"
    }
   ],
   "source": [
    "# Getting the unique cities\n",
    "df[\"City\"].unique()"
   ]
  },
  {
   "cell_type": "code",
   "execution_count": 201,
   "metadata": {},
   "outputs": [],
   "source": [
    "#Keeping only the valid city names\n",
    "city_names = [\n",
    "    'Ludhiana', 'Varanasi', 'Visakhapatnam', 'Mumbai', 'Kanpur', \n",
    "    'Ahmedabad', 'Thane', 'Nashik', 'Bangalore', 'Patna', 'Rajkot', \n",
    "    'Jaipur', 'Pune', 'Lucknow', 'Meerut', 'Agra', 'Surat', 'Faridabad', \n",
    "    'Hyderabad', 'Srinagar', 'Ghaziabad', 'Kolkata', 'Chennai', \n",
    "    'Kalyan', 'Nagpur', 'Vadodara', 'Vasai-Virar', 'Delhi', 'Bhopal', \n",
    "    'Indore', 'Morena'\n",
    "]"
   ]
  },
  {
   "cell_type": "code",
   "execution_count": 202,
   "metadata": {},
   "outputs": [
    {
     "data": {
      "text/plain": [
       "97"
      ]
     },
     "execution_count": 202,
     "metadata": {},
     "output_type": "execute_result"
    }
   ],
   "source": [
    "# Filtering the data by removing the rows which has the some string other than city name\n",
    "df[\"City\"] = df[\"City\"].apply(lambda x: x if x in city_names else np.nan)\n",
    "df[\"City\"].isnull().sum()"
   ]
  },
  {
   "cell_type": "code",
   "execution_count": 203,
   "metadata": {},
   "outputs": [
    {
     "name": "stderr",
     "output_type": "stream",
     "text": [
      "C:\\Users\\Deep\\AppData\\Local\\Temp\\ipykernel_22852\\1340945172.py:2: FutureWarning: A value is trying to be set on a copy of a DataFrame or Series through chained assignment using an inplace method.\n",
      "The behavior will change in pandas 3.0. This inplace method will never work because the intermediate object on which we are setting values always behaves as a copy.\n",
      "\n",
      "For example, when doing 'df[col].method(value, inplace=True)', try using 'df.method({col: value}, inplace=True)' or df[col] = df[col].method(value) instead, to perform the operation inplace on the original object.\n",
      "\n",
      "\n",
      "  df[\"City\"].fillna(\"Kalyan\", inplace=True)\n"
     ]
    }
   ],
   "source": [
    "# Filling the null values with the most common city name\n",
    "df[\"City\"].fillna(\"Kalyan\", inplace=True)"
   ]
  },
  {
   "cell_type": "code",
   "execution_count": 204,
   "metadata": {},
   "outputs": [
    {
     "data": {
      "text/plain": [
       "array(['Healthy', 'Unhealthy', 'Moderate', 'Yes', 'Pratham', 'BSc',\n",
       "       'Gender', '3', 'More Healthy', 'Less than Healthy', 'Mihir', '1.0',\n",
       "       'Hormonal', 'Electrician', nan, 'No Healthy', 'Less Healthy',\n",
       "       'M.Tech', 'Vegas', 'No', 'Male', 'Indoor', 'Class 12', '2'],\n",
       "      dtype=object)"
      ]
     },
     "execution_count": 204,
     "metadata": {},
     "output_type": "execute_result"
    }
   ],
   "source": [
    "# Accessing the unique values of Dietary Habits\n",
    "df[\"Dietary Habits\"].unique()"
   ]
  },
  {
   "cell_type": "code",
   "execution_count": 205,
   "metadata": {},
   "outputs": [],
   "source": [
    "#Keeping only three labels for dietary habits\n",
    "df[\"Dietary Habits\"] = df[\"Dietary Habits\"].replace('Yes', 'Healthy')\n",
    "df[\"Dietary Habits\"] = df[\"Dietary Habits\"].replace('More Healthy', 'Healthy')\n",
    "df[\"Dietary Habits\"] = df[\"Dietary Habits\"].replace('5 Unhealthy', 'Unhealthy')\n",
    "df[\"Dietary Habits\"] = df[\"Dietary Habits\"].replace('No', 'Moderate')\n",
    "df[\"Dietary Habits\"] = df[\"Dietary Habits\"].replace('Less Healthy', 'Moderate')\n",
    "df[\"Dietary Habits\"] = df[\"Dietary Habits\"].replace('Less than Healthy', 'Moderate')\n",
    "df[\"Dietary Habits\"] = df[\"Dietary Habits\"].replace('No Healthy', 'Unhealthy')\n",
    "dietary_habits = ['Healthy', 'Moderate', 'Unhealthy']\n"
   ]
  },
  {
   "cell_type": "code",
   "execution_count": 206,
   "metadata": {},
   "outputs": [
    {
     "data": {
      "text/plain": [
       "Dietary Habits\n",
       "Moderate     49709\n",
       "Unhealthy    46228\n",
       "Healthy      44745\n",
       "Name: count, dtype: int64"
      ]
     },
     "execution_count": 206,
     "metadata": {},
     "output_type": "execute_result"
    }
   ],
   "source": [
    "# Checking value counts of Dietary Habits with the above three labels and keeping only those rows\n",
    "df = df[df[\"Dietary Habits\"].isin(dietary_habits)]\n",
    "df[\"Dietary Habits\"].value_counts()"
   ]
  },
  {
   "cell_type": "code",
   "execution_count": 207,
   "metadata": {},
   "outputs": [
    {
     "data": {
      "text/plain": [
       "array(['More than 8 hours', 'Less than 5 hours', '5-6 hours', '7-8 hours',\n",
       "       'Sleep_Duration', '1-2 hours', '6-8 hours', '4-6 hours',\n",
       "       '6-7 hours', '10-11 hours', '8-9 hours', '40-45 hours',\n",
       "       '9-11 hours', '2-3 hours', '3-4 hours', 'Moderate', '55-66 hours',\n",
       "       '4-5 hours', '9-6 hours', '1-3 hours', 'Indore', '45', '1-6 hours',\n",
       "       '35-36 hours', '8 hours', 'No', '10-6 hours', 'than 5 hours',\n",
       "       '49 hours', 'Unhealthy', 'Work_Study_Hours', '3-6 hours',\n",
       "       '45-48 hours', '9-5', 'Pune', '9-5 hours'], dtype=object)"
      ]
     },
     "execution_count": 207,
     "metadata": {},
     "output_type": "execute_result"
    }
   ],
   "source": [
    "# Accessing the unique values of Sleep Duration\n",
    "df[\"Sleep Duration\"].unique()"
   ]
  },
  {
   "cell_type": "code",
   "execution_count": 208,
   "metadata": {},
   "outputs": [],
   "source": [
    "# Keeping only the valid sleep duration values\n",
    "sleep_duration = ['More than 8 hours', 'Less than 5 hours', '5-6 hours', '7-8 hours',\n",
    "       '1-2 hours', '6-8 hours', '4-6 hours',\n",
    "       '6-7 hours', '10-11 hours', '8-9 hours',\n",
    "       '9-11 hours', '2-3 hours', '3-4 hours',\n",
    "       '4-5 hours', '9-6 hours', '1-3 hours', '1-6 hours',\n",
    "       '8 hours', '10-6 hours', 'than 5 hours','3-6 hours',\n",
    "       '9-5', '9-5 hours']\n",
    "\n",
    "df = df[df[\"Sleep Duration\"].isin(sleep_duration)]\n"
   ]
  },
  {
   "cell_type": "code",
   "execution_count": 209,
   "metadata": {},
   "outputs": [],
   "source": [
    "less_than_six = ['Less than 5 hours',  '1-2 hours','6-7 hours', '6-7 hours', '2-3 hours', '3-4 hours', '4-5 hours', '1-3 hours', '1-6 hours','than 5 hours', '3-6 hours', \"5-6 hours\", '4-6 hours']\n",
    "more_than_six = ['More than 8 hours', '7-8 hours', '6-8 hours', '8-9 hours', '9-11 hours', '8 hours', '10-6 hours', '9-5 hours', '9-6 hours', '10-11 hours', '9-5']"
   ]
  },
  {
   "cell_type": "code",
   "execution_count": 210,
   "metadata": {},
   "outputs": [],
   "source": [
    "df[\"Sleep Duration\"] = df[\"Sleep Duration\"].apply(lambda x: 0 if x in less_than_six else 1 if x in more_than_six else x)\n"
   ]
  },
  {
   "cell_type": "code",
   "execution_count": 211,
   "metadata": {},
   "outputs": [
    {
     "data": {
      "text/plain": [
       "Sleep Duration\n",
       "0    70962\n",
       "1    69701\n",
       "Name: count, dtype: int64"
      ]
     },
     "execution_count": 211,
     "metadata": {},
     "output_type": "execute_result"
    }
   ],
   "source": [
    "df[\"Sleep Duration\"].value_counts()"
   ]
  },
  {
   "cell_type": "code",
   "execution_count": 212,
   "metadata": {},
   "outputs": [
    {
     "data": {
      "text/plain": [
       "array(['BHM', 'LLB', 'B.Pharm', 'BBA', 'MCA', 'MD', 'BSc', 'ME', 'B.Arch',\n",
       "       'BCA', 'BE', 'MA', 'B.Ed', 'B.Com', 'MBA', 'M.Com', 'MHM', 'BA',\n",
       "       'Class 12', 'M.Tech', 'PhD', 'M.Ed', 'MSc', 'B.Tech', 'LLM',\n",
       "       'MBBS', 'M.Pharm', 'UX/UI Designer', 'MPA', 'BH', 'Nalini', 'BEd',\n",
       "       'B.Sc', 'Veda', 'Bhopal', 'S.Tech', 'Degree', '20', 'Class 11',\n",
       "       'H_Pharm', 'M', 'P.Com', 'BPharm', 'Business Analyst', 'M.Arch',\n",
       "       'LL.Com', 'Data Scientist', 'MPharm', 'L.Ed', 'P.Pharm', 'Kalyan',\n",
       "       'Unite', 'BArch', 'HR Manager', 'Badhya', 'S.Pharm', 'LLBA',\n",
       "       'Vrinda', 'M. Business Analyst', 'Bhavesh', '0', 'LLCom', '29',\n",
       "       'MTech', 'Vivaan', 'BPA', 'Plumber', '5.61', 'Brit', 'B.03',\n",
       "       'Ritik', '5.56', 'MEd', 'B', 'B BA', '7.06', 'B.B.Arch', 'ACA',\n",
       "       'Brithika', 'CGPA', '24', 'M_Tech', 'Pihu', 'BB', 'Jhanvi',\n",
       "       'LLTech', 'Aarav', 'Entrepreneur', '8.56', 'LHM', 'Lata', 'S.Arch',\n",
       "       'Marsh', 'HCA', '5.88', 'B.Student', 'LL B.Ed', 'M.S', 'Navya',\n",
       "       'Mahika', nan, 'K.Ed', 'B.3.79', 'Mthanya', 'Working Professional',\n",
       "       'Esha', 'LLS', 'LLEd', 'E.Tech', 'Doctor', 'N.Pharm', 'LCA',\n",
       "       'B B.Com', 'RCA', 'Mihir', 'Advait'], dtype=object)"
      ]
     },
     "execution_count": 212,
     "metadata": {},
     "output_type": "execute_result"
    }
   ],
   "source": [
    "df[\"Degree\"].unique()"
   ]
  },
  {
   "cell_type": "code",
   "execution_count": 213,
   "metadata": {},
   "outputs": [],
   "source": [
    "# Sorting the degree values into three categories\n",
    "masters = ['MCA', 'MD', 'ME', 'MA', 'MBA', 'M.Com', 'MHM', 'M.Ed', 'M.Tech', 'MSc', 'M.Pharm', 'MPA', 'M', 'M.Arch', 'MPharm', 'MEd', 'M.S', 'MPA','MTech', 'M_Tech', \"PhD\"]\n",
    "undergraduate = ['CLass 12','20', 'Class 11', '0']\n",
    "df[\"Degree\"] = df[\"Degree\"].apply(lambda x: \"Masters\" if x in masters else \"Undergraduate\" if x in undergraduate else \"Bachelor\")\n"
   ]
  },
  {
   "cell_type": "code",
   "execution_count": 214,
   "metadata": {},
   "outputs": [
    {
     "data": {
      "text/plain": [
       "Degree\n",
       "Bachelor         92664\n",
       "Masters          47996\n",
       "Undergraduate        3\n",
       "Name: count, dtype: int64"
      ]
     },
     "execution_count": 214,
     "metadata": {},
     "output_type": "execute_result"
    }
   ],
   "source": [
    "df[\"Degree\"].value_counts()"
   ]
  },
  {
   "cell_type": "code",
   "execution_count": 215,
   "metadata": {},
   "outputs": [
    {
     "data": {
      "text/plain": [
       "array(['No', 'Yes'], dtype=object)"
      ]
     },
     "execution_count": 215,
     "metadata": {},
     "output_type": "execute_result"
    }
   ],
   "source": [
    "df[\"Family History of Mental Illness\"].unique()"
   ]
  },
  {
   "cell_type": "code",
   "execution_count": 216,
   "metadata": {},
   "outputs": [
    {
     "data": {
      "text/plain": [
       "array([ 2.,  3.,  1.,  4.,  5., nan])"
      ]
     },
     "execution_count": 216,
     "metadata": {},
     "output_type": "execute_result"
    }
   ],
   "source": [
    "df[\"Financial Stress\"].unique()"
   ]
  },
  {
   "cell_type": "code",
   "execution_count": 217,
   "metadata": {},
   "outputs": [
    {
     "data": {
      "text/plain": [
       "array([ 1.,  7.,  3., 10.,  9.,  6.,  8.,  2.,  0.,  5., 12.,  4., 11.])"
      ]
     },
     "execution_count": 217,
     "metadata": {},
     "output_type": "execute_result"
    }
   ],
   "source": [
    "df[\"Work/Study Hours\"].unique()"
   ]
  },
  {
   "cell_type": "code",
   "execution_count": 218,
   "metadata": {},
   "outputs": [
    {
     "data": {
      "text/plain": [
       "array(['No', 'Yes'], dtype=object)"
      ]
     },
     "execution_count": 218,
     "metadata": {},
     "output_type": "execute_result"
    }
   ],
   "source": [
    "df[\"Have you ever had suicidal thoughts ?\"].unique()"
   ]
  },
  {
   "cell_type": "code",
   "execution_count": 219,
   "metadata": {},
   "outputs": [
    {
     "data": {
      "text/plain": [
       "array(['Healthy', 'Unhealthy', 'Moderate'], dtype=object)"
      ]
     },
     "execution_count": 219,
     "metadata": {},
     "output_type": "execute_result"
    }
   ],
   "source": [
    "df[\"Dietary Habits\"].unique()"
   ]
  },
  {
   "cell_type": "code",
   "execution_count": 220,
   "metadata": {},
   "outputs": [
    {
     "data": {
      "text/plain": [
       "array(['Chef', 'Teacher', 'Student', 'Business Analyst',\n",
       "       'Finanancial Analyst', 'Chemist', 'Electrician',\n",
       "       'Software Engineer', 'Data Scientist', 'Plumber',\n",
       "       'Marketing Manager', 'Accountant', 'Entrepreneur', 'HR Manager',\n",
       "       'UX/UI Designer', 'Content Writer', nan, 'Educational Consultant',\n",
       "       'Civil Engineer', 'Manager', 'Pharmacist', 'Financial Analyst',\n",
       "       'Architect', 'Mechanical Engineer', 'Customer Support',\n",
       "       'Consultant', 'Judge', 'Researcher', 'Pilot', 'Graphic Designer',\n",
       "       'Travel Consultant', 'Digital Marketer', 'Lawyer',\n",
       "       'Research Analyst', 'Sales Executive', 'Doctor', 'Unemployed',\n",
       "       'Investment Banker', 'Family Consultant', 'B.Com', 'BE', 'Yogesh',\n",
       "       'Dev', 'MBA', 'LLM', 'BCA', 'Academic', 'Profession',\n",
       "       'FamilyVirar', 'City Manager', 'BBA', 'Medical Doctor',\n",
       "       'Working Professional', 'MBBS', 'Patna', 'Unveil', 'B.Ed',\n",
       "       'Nagpur', 'Moderate', 'M.Ed', 'Analyst', 'Pranav', 'Visakhapatnam',\n",
       "       'PhD', 'Yuvraj'], dtype=object)"
      ]
     },
     "execution_count": 220,
     "metadata": {},
     "output_type": "execute_result"
    }
   ],
   "source": [
    "df[\"Profession\"].unique()"
   ]
  },
  {
   "cell_type": "code",
   "execution_count": 221,
   "metadata": {},
   "outputs": [],
   "source": [
    "counts = df[\"Profession\"].value_counts()"
   ]
  },
  {
   "cell_type": "code",
   "execution_count": 222,
   "metadata": {},
   "outputs": [
    {
     "data": {
      "text/plain": [
       "Index(['Academic', 'Unemployed', 'Yogesh', 'Profession', 'BCA', 'MBA', 'LLM',\n",
       "       'PhD', 'Analyst', 'Patna', 'Pranav', 'Visakhapatnam', 'M.Ed',\n",
       "       'Moderate', 'Nagpur', 'B.Ed', 'Unveil', 'BBA', 'MBBS',\n",
       "       'Working Professional', 'Medical Doctor', 'City Manager', 'FamilyVirar',\n",
       "       'Dev', 'BE', 'B.Com', 'Family Consultant', 'Yuvraj'],\n",
       "      dtype='object', name='Profession')"
      ]
     },
     "execution_count": 222,
     "metadata": {},
     "output_type": "execute_result"
    }
   ],
   "source": [
    "counts[counts<10].index"
   ]
  },
  {
   "cell_type": "code",
   "execution_count": 223,
   "metadata": {},
   "outputs": [],
   "source": [
    "to_remove_profession = ['Academic', 'Profession', 'Yogesh', 'BCA',\n",
    "       'LLM', 'MBA', 'Dev', 'BE', 'Visakhapatnam',\n",
    "       'Pranav', 'M.Ed', 'Moderate', 'Nagpur', 'B.Ed', 'Unveil',\n",
    "       'Patna', 'MBBS', 'Working Professional', 'BBA', 'FamilyVirar', 'B.Com', 'Yuvraj']\n",
    "\n",
    "df = df[~df[\"Profession\"].isin(to_remove_profession)]"
   ]
  },
  {
   "cell_type": "code",
   "execution_count": 224,
   "metadata": {},
   "outputs": [
    {
     "data": {
      "text/plain": [
       "array(['Chef', 'Teacher', 'Student', 'Business Analyst',\n",
       "       'Finanancial Analyst', 'Chemist', 'Electrician',\n",
       "       'Software Engineer', 'Data Scientist', 'Plumber',\n",
       "       'Marketing Manager', 'Accountant', 'Entrepreneur', 'HR Manager',\n",
       "       'UX/UI Designer', 'Content Writer', nan, 'Educational Consultant',\n",
       "       'Civil Engineer', 'Manager', 'Pharmacist', 'Financial Analyst',\n",
       "       'Architect', 'Mechanical Engineer', 'Customer Support',\n",
       "       'Consultant', 'Judge', 'Researcher', 'Pilot', 'Graphic Designer',\n",
       "       'Travel Consultant', 'Digital Marketer', 'Lawyer',\n",
       "       'Research Analyst', 'Sales Executive', 'Doctor', 'Unemployed',\n",
       "       'Investment Banker', 'Family Consultant', 'City Manager',\n",
       "       'Medical Doctor', 'Analyst', 'PhD'], dtype=object)"
      ]
     },
     "execution_count": 224,
     "metadata": {},
     "output_type": "execute_result"
    }
   ],
   "source": [
    "df[\"Profession\"].unique()"
   ]
  },
  {
   "cell_type": "code",
   "execution_count": 225,
   "metadata": {},
   "outputs": [
    {
     "name": "stderr",
     "output_type": "stream",
     "text": [
      "C:\\Users\\Deep\\AppData\\Local\\Temp\\ipykernel_22852\\1153530169.py:1: FutureWarning: Downcasting behavior in `replace` is deprecated and will be removed in a future version. To retain the old behavior, explicitly call `result.infer_objects(copy=False)`. To opt-in to the future behavior, set `pd.set_option('future.no_silent_downcasting', True)`\n",
      "  df[\"Gender\"] = df[\"Gender\"].replace({'Male': 1, 'Female': 0})\n",
      "C:\\Users\\Deep\\AppData\\Local\\Temp\\ipykernel_22852\\1153530169.py:2: FutureWarning: Downcasting behavior in `replace` is deprecated and will be removed in a future version. To retain the old behavior, explicitly call `result.infer_objects(copy=False)`. To opt-in to the future behavior, set `pd.set_option('future.no_silent_downcasting', True)`\n",
      "  df[\"Dietary Habits\"] = df[\"Dietary Habits\"].replace({'Healthy': 2, 'Unhealthy': 0, 'Moderate': 1})\n",
      "C:\\Users\\Deep\\AppData\\Local\\Temp\\ipykernel_22852\\1153530169.py:3: FutureWarning: Downcasting behavior in `replace` is deprecated and will be removed in a future version. To retain the old behavior, explicitly call `result.infer_objects(copy=False)`. To opt-in to the future behavior, set `pd.set_option('future.no_silent_downcasting', True)`\n",
      "  df[\"Degree\"] = df[\"Degree\"].replace({'Masters': 2, 'Undergraduate': 0, 'Bachelor': 1})\n",
      "C:\\Users\\Deep\\AppData\\Local\\Temp\\ipykernel_22852\\1153530169.py:4: FutureWarning: Downcasting behavior in `replace` is deprecated and will be removed in a future version. To retain the old behavior, explicitly call `result.infer_objects(copy=False)`. To opt-in to the future behavior, set `pd.set_option('future.no_silent_downcasting', True)`\n",
      "  df[\"Family History of Mental Illness\"] = df[\"Family History of Mental Illness\"].replace({'Yes': 1, 'No': 0})\n",
      "C:\\Users\\Deep\\AppData\\Local\\Temp\\ipykernel_22852\\1153530169.py:5: FutureWarning: Downcasting behavior in `replace` is deprecated and will be removed in a future version. To retain the old behavior, explicitly call `result.infer_objects(copy=False)`. To opt-in to the future behavior, set `pd.set_option('future.no_silent_downcasting', True)`\n",
      "  df[\"Have you ever had suicidal thoughts ?\"] = df[\"Have you ever had suicidal thoughts ?\"].replace({'Yes': 1, 'No': 0})\n"
     ]
    }
   ],
   "source": [
    "df[\"Gender\"] = df[\"Gender\"].replace({'Male': 1, 'Female': 0})\n",
    "df[\"Dietary Habits\"] = df[\"Dietary Habits\"].replace({'Healthy': 2, 'Unhealthy': 0, 'Moderate': 1})\n",
    "df[\"Degree\"] = df[\"Degree\"].replace({'Masters': 2, 'Undergraduate': 0, 'Bachelor': 1})\n",
    "df[\"Family History of Mental Illness\"] = df[\"Family History of Mental Illness\"].replace({'Yes': 1, 'No': 0})\n",
    "df[\"Have you ever had suicidal thoughts ?\"] = df[\"Have you ever had suicidal thoughts ?\"].replace({'Yes': 1, 'No': 0})\n"
   ]
  },
  {
   "cell_type": "code",
   "execution_count": 226,
   "metadata": {},
   "outputs": [
    {
     "name": "stdout",
     "output_type": "stream",
     "text": [
      "<class 'pandas.core.frame.DataFrame'>\n",
      "Index: 140629 entries, 0 to 140699\n",
      "Data columns (total 15 columns):\n",
      " #   Column                                 Non-Null Count   Dtype  \n",
      "---  ------                                 --------------   -----  \n",
      " 0   Gender                                 140629 non-null  int64  \n",
      " 1   Age                                    140629 non-null  float64\n",
      " 2   City                                   140629 non-null  object \n",
      " 3   Working Professional or Student        140629 non-null  object \n",
      " 4   Profession                             131867 non-null  object \n",
      " 5   Sleep Duration                         140629 non-null  int64  \n",
      " 6   Dietary Habits                         140629 non-null  int64  \n",
      " 7   Degree                                 140629 non-null  int64  \n",
      " 8   Have you ever had suicidal thoughts ?  140629 non-null  int64  \n",
      " 9   Work/Study Hours                       140629 non-null  float64\n",
      " 10  Financial Stress                       140625 non-null  float64\n",
      " 11  Family History of Mental Illness       140629 non-null  int64  \n",
      " 12  Depression                             140629 non-null  int64  \n",
      " 13  Job/ Study Satisfaction                140614 non-null  float64\n",
      " 14  Work/ Academic Pressure                140608 non-null  float64\n",
      "dtypes: float64(5), int64(7), object(3)\n",
      "memory usage: 17.2+ MB\n"
     ]
    }
   ],
   "source": [
    "df.info()"
   ]
  },
  {
   "cell_type": "code",
   "execution_count": 227,
   "metadata": {},
   "outputs": [
    {
     "name": "stderr",
     "output_type": "stream",
     "text": [
      "C:\\Users\\Deep\\AppData\\Local\\Temp\\ipykernel_22852\\2312499290.py:1: FutureWarning: Downcasting behavior in `replace` is deprecated and will be removed in a future version. To retain the old behavior, explicitly call `result.infer_objects(copy=False)`. To opt-in to the future behavior, set `pd.set_option('future.no_silent_downcasting', True)`\n",
      "  df[\"Working Professional or Student\"] = df[\"Working Professional or Student\"].replace({'Student': 0, 'Working Professional': 1})\n"
     ]
    }
   ],
   "source": [
    "df[\"Working Professional or Student\"] = df[\"Working Professional or Student\"].replace({'Student': 0, 'Working Professional': 1})"
   ]
  },
  {
   "cell_type": "code",
   "execution_count": 228,
   "metadata": {},
   "outputs": [
    {
     "data": {
      "text/plain": [
       "array(['Ludhiana', 'Varanasi', 'Visakhapatnam', 'Mumbai', 'Kanpur',\n",
       "       'Ahmedabad', 'Thane', 'Nashik', 'Bangalore', 'Patna', 'Rajkot',\n",
       "       'Jaipur', 'Pune', 'Lucknow', 'Meerut', 'Agra', 'Surat',\n",
       "       'Faridabad', 'Hyderabad', 'Srinagar', 'Ghaziabad', 'Kolkata',\n",
       "       'Chennai', 'Kalyan', 'Nagpur', 'Vadodara', 'Vasai-Virar', 'Delhi',\n",
       "       'Bhopal', 'Indore', 'Morena'], dtype=object)"
      ]
     },
     "execution_count": 228,
     "metadata": {},
     "output_type": "execute_result"
    }
   ],
   "source": [
    "df[\"City\"].unique()"
   ]
  },
  {
   "cell_type": "code",
   "execution_count": 229,
   "metadata": {},
   "outputs": [
    {
     "data": {
      "text/plain": [
       "array(['Chef', 'Teacher', 'Student', 'Business Analyst',\n",
       "       'Finanancial Analyst', 'Chemist', 'Electrician',\n",
       "       'Software Engineer', 'Data Scientist', 'Plumber',\n",
       "       'Marketing Manager', 'Accountant', 'Entrepreneur', 'HR Manager',\n",
       "       'UX/UI Designer', 'Content Writer', nan, 'Educational Consultant',\n",
       "       'Civil Engineer', 'Manager', 'Pharmacist', 'Financial Analyst',\n",
       "       'Architect', 'Mechanical Engineer', 'Customer Support',\n",
       "       'Consultant', 'Judge', 'Researcher', 'Pilot', 'Graphic Designer',\n",
       "       'Travel Consultant', 'Digital Marketer', 'Lawyer',\n",
       "       'Research Analyst', 'Sales Executive', 'Doctor', 'Unemployed',\n",
       "       'Investment Banker', 'Family Consultant', 'City Manager',\n",
       "       'Medical Doctor', 'Analyst', 'PhD'], dtype=object)"
      ]
     },
     "execution_count": 229,
     "metadata": {},
     "output_type": "execute_result"
    }
   ],
   "source": [
    "df[\"Profession\"].unique()"
   ]
  },
  {
   "cell_type": "code",
   "execution_count": 230,
   "metadata": {},
   "outputs": [
    {
     "name": "stderr",
     "output_type": "stream",
     "text": [
      "C:\\Users\\Deep\\AppData\\Local\\Temp\\ipykernel_22852\\91157979.py:11: FutureWarning: Downcasting behavior in `replace` is deprecated and will be removed in a future version. To retain the old behavior, explicitly call `result.infer_objects(copy=False)`. To opt-in to the future behavior, set `pd.set_option('future.no_silent_downcasting', True)`\n",
      "  df[\"City\"] = df[\"City\"].replace(city_mapping)\n"
     ]
    }
   ],
   "source": [
    "city_mapping = {\n",
    "    'Ludhiana': 0, 'Varanasi': 1, 'Visakhapatnam': 2, 'Mumbai': 3, 'Kanpur': 4,\n",
    "    'Ahmedabad': 5, 'Thane': 6, 'Nashik': 7, 'Bangalore': 8, 'Patna': 9,\n",
    "    'Rajkot': 10, 'Jaipur': 11, 'Pune': 12, 'Lucknow': 13, 'Meerut': 14,\n",
    "    'Agra': 15, 'Surat': 16, 'Faridabad': 17, 'Hyderabad': 18, 'Srinagar': 19,\n",
    "    'Ghaziabad': 20, 'Kolkata': 21, 'Chennai': 22, 'Kalyan': 23, 'Nagpur': 24,\n",
    "    'Vadodara': 25, 'Vasai-Virar': 26, 'Delhi': 27, 'Bhopal': 28, 'Indore': 29,\n",
    "    'Gurgaon': 30, 'Morena': 31\n",
    "}\n",
    "\n",
    "df[\"City\"] = df[\"City\"].replace(city_mapping)"
   ]
  },
  {
   "cell_type": "code",
   "execution_count": 231,
   "metadata": {},
   "outputs": [
    {
     "name": "stderr",
     "output_type": "stream",
     "text": [
      "C:\\Users\\Deep\\AppData\\Local\\Temp\\ipykernel_22852\\276633308.py:15: FutureWarning: Downcasting behavior in `replace` is deprecated and will be removed in a future version. To retain the old behavior, explicitly call `result.infer_objects(copy=False)`. To opt-in to the future behavior, set `pd.set_option('future.no_silent_downcasting', True)`\n",
      "  df[\"Profession\"] = df[\"Profession\"].replace(profession_mapping)\n"
     ]
    }
   ],
   "source": [
    "profession_mapping = {\n",
    "    'Chef': 1, 'Teacher': 2, 'Student': 3, 'Business Analyst': 4,\n",
    "    'Finanancial Analyst': 5, 'Chemist': 6, 'Electrician': 7,\n",
    "    'Software Engineer': 8, 'Data Scientist': 9, 'Plumber': 10,\n",
    "    'Marketing Manager': 11, 'Accountant': 12, 'Entrepreneur': 13, 'HR Manager': 14,\n",
    "    'UX/UI Designer': 15, 'Content Writer': 16, 'Educational Consultant': 17,\n",
    "    'Civil Engineer': 18, 'Manager': 19, 'Pharmacist': 20, 'Financial Analyst': 21,\n",
    "    'Architect': 22, 'Mechanical Engineer': 23, 'Customer Support': 24,\n",
    "    'Consultant': 25, 'Judge': 26, 'Researcher': 27, 'Pilot': 28, 'Graphic Designer': 29,\n",
    "    'Travel Consultant': 30, 'Digital Marketer': 31, 'Lawyer': 32,\n",
    "    'Research Analyst': 33, 'Sales Executive': 34, 'Doctor': 35,\n",
    "    'Investment Banker': 36, 'Family Consultant': 37, 'City Manager': 38,\n",
    "    'Medical Doctor': 39, 'Analyst': 40, 'PhD':41, \"Unemployed\": 42\n",
    "}\n",
    "df[\"Profession\"] = df[\"Profession\"].replace(profession_mapping)\n"
   ]
  },
  {
   "cell_type": "code",
   "execution_count": 232,
   "metadata": {},
   "outputs": [],
   "source": [
    "df[\"Profession\"] = df[\"Profession\"].fillna(0)"
   ]
  },
  {
   "cell_type": "code",
   "execution_count": 235,
   "metadata": {},
   "outputs": [
    {
     "name": "stderr",
     "output_type": "stream",
     "text": [
      "C:\\Users\\Deep\\AppData\\Local\\Temp\\ipykernel_22852\\1863886921.py:4: FutureWarning: A value is trying to be set on a copy of a DataFrame or Series through chained assignment using an inplace method.\n",
      "The behavior will change in pandas 3.0. This inplace method will never work because the intermediate object on which we are setting values always behaves as a copy.\n",
      "\n",
      "For example, when doing 'df[col].method(value, inplace=True)', try using 'df.method({col: value}, inplace=True)' or df[col] = df[col].method(value) instead, to perform the operation inplace on the original object.\n",
      "\n",
      "\n",
      "  df[\"City\"].fillna(max_occurrence_city, inplace=True)\n",
      "C:\\Users\\Deep\\AppData\\Local\\Temp\\ipykernel_22852\\1863886921.py:12: FutureWarning: A value is trying to be set on a copy of a DataFrame or Series through chained assignment using an inplace method.\n",
      "The behavior will change in pandas 3.0. This inplace method will never work because the intermediate object on which we are setting values always behaves as a copy.\n",
      "\n",
      "For example, when doing 'df[col].method(value, inplace=True)', try using 'df.method({col: value}, inplace=True)' or df[col] = df[col].method(value) instead, to perform the operation inplace on the original object.\n",
      "\n",
      "\n",
      "  df[\"Work/ Academic Pressure\"].fillna(max_occurrence_work_academic_pressure, inplace=True)\n",
      "C:\\Users\\Deep\\AppData\\Local\\Temp\\ipykernel_22852\\1863886921.py:18: FutureWarning: A value is trying to be set on a copy of a DataFrame or Series through chained assignment using an inplace method.\n",
      "The behavior will change in pandas 3.0. This inplace method will never work because the intermediate object on which we are setting values always behaves as a copy.\n",
      "\n",
      "For example, when doing 'df[col].method(value, inplace=True)', try using 'df.method({col: value}, inplace=True)' or df[col] = df[col].method(value) instead, to perform the operation inplace on the original object.\n",
      "\n",
      "\n",
      "  df[\"Job/ Study Satisfaction\"].fillna(max_occurrence_job_study_satisfaction, inplace=True)\n",
      "C:\\Users\\Deep\\AppData\\Local\\Temp\\ipykernel_22852\\1863886921.py:24: FutureWarning: A value is trying to be set on a copy of a DataFrame or Series through chained assignment using an inplace method.\n",
      "The behavior will change in pandas 3.0. This inplace method will never work because the intermediate object on which we are setting values always behaves as a copy.\n",
      "\n",
      "For example, when doing 'df[col].method(value, inplace=True)', try using 'df.method({col: value}, inplace=True)' or df[col] = df[col].method(value) instead, to perform the operation inplace on the original object.\n",
      "\n",
      "\n",
      "  df[\"Financial Stress\"].fillna(mode_financial_stress, inplace=True)\n"
     ]
    }
   ],
   "source": [
    "max_occurrence_city = df[\"City\"].mode()[0]\n",
    "\n",
    "# Replace the null values with the maximum occurring number\n",
    "df[\"City\"].fillna(max_occurrence_city, inplace=True)\n",
    "\n",
    "\n",
    "\n",
    "# Find the maximum occurring number in the \"Work/ Academic Pressure\" column\n",
    "max_occurrence_work_academic_pressure = df[\"Work/ Academic Pressure\"].mode()[0]\n",
    "\n",
    "# Replace the null values with the maximum occurring number\n",
    "df[\"Work/ Academic Pressure\"].fillna(max_occurrence_work_academic_pressure, inplace=True)\n",
    "\n",
    "# Find the maximum occurring number in the \"Job/ Study Satisfaction\" column\n",
    "max_occurrence_job_study_satisfaction = df[\"Job/ Study Satisfaction\"].mode()[0]\n",
    "\n",
    "# Replace the null values with the maximum occurring number\n",
    "df[\"Job/ Study Satisfaction\"].fillna(max_occurrence_job_study_satisfaction, inplace=True)\n",
    "\n",
    "# Find the mode value in the \"Financial Stress\" column\n",
    "mode_financial_stress = df[\"Financial Stress\"].mode()[0]\n",
    "\n",
    "# Replace the null values with the mode value\n",
    "df[\"Financial Stress\"].fillna(mode_financial_stress, inplace=True)"
   ]
  },
  {
   "cell_type": "code",
   "execution_count": 236,
   "metadata": {},
   "outputs": [
    {
     "data": {
      "text/plain": [
       "Gender                                   0\n",
       "Age                                      0\n",
       "City                                     0\n",
       "Working Professional or Student          0\n",
       "Profession                               0\n",
       "Sleep Duration                           0\n",
       "Dietary Habits                           0\n",
       "Degree                                   0\n",
       "Have you ever had suicidal thoughts ?    0\n",
       "Work/Study Hours                         0\n",
       "Financial Stress                         0\n",
       "Family History of Mental Illness         0\n",
       "Depression                               0\n",
       "Job/ Study Satisfaction                  0\n",
       "Work/ Academic Pressure                  0\n",
       "dtype: int64"
      ]
     },
     "execution_count": 236,
     "metadata": {},
     "output_type": "execute_result"
    }
   ],
   "source": [
    "df.isna().sum()"
   ]
  },
  {
   "cell_type": "code",
   "execution_count": 241,
   "metadata": {},
   "outputs": [],
   "source": [
    "df.to_csv(\"cleaned_data.csv\", index=False)"
   ]
  },
  {
   "cell_type": "code",
   "execution_count": 242,
   "metadata": {},
   "outputs": [],
   "source": [
    "from sklearn.model_selection import train_test_split\n",
    "\n",
    "# Define the features and target variable\n",
    "X = df.drop(columns=[\"Depression\"], axis=1)\n",
    "y = df[\"Depression\"]\n",
    "\n",
    "# Split the data into training and testing sets\n",
    "X_train, X_test, y_train, y_test = train_test_split(X, y, test_size=0.2, random_state=42)\n",
    "\n"
   ]
  },
  {
   "cell_type": "code",
   "execution_count": 243,
   "metadata": {},
   "outputs": [
    {
     "name": "stdout",
     "output_type": "stream",
     "text": [
      "Accuracy: 0.9373533385479628\n",
      "Classification Report:\n",
      "              precision    recall  f1-score   support\n",
      "\n",
      "           0       0.96      0.97      0.96     23016\n",
      "           1       0.84      0.81      0.82      5110\n",
      "\n",
      "    accuracy                           0.94     28126\n",
      "   macro avg       0.90      0.89      0.89     28126\n",
      "weighted avg       0.94      0.94      0.94     28126\n",
      "\n"
     ]
    }
   ],
   "source": [
    "from sklearn.linear_model import LogisticRegression\n",
    "from sklearn.metrics import accuracy_score, classification_report\n",
    "\n",
    "# Initialize the LogisticRegression model\n",
    "log_reg = LogisticRegression(max_iter=1000, random_state=42)\n",
    "\n",
    "# Train the model\n",
    "log_reg.fit(X_train, y_train)\n",
    "\n",
    "# Make predictions on the test set\n",
    "y_pred_log_reg = log_reg.predict(X_test)\n",
    "\n",
    "# Evaluate the model\n",
    "accuracy_log_reg = accuracy_score(y_test, y_pred_log_reg)\n",
    "report_log_reg = classification_report(y_test, y_pred_log_reg)\n",
    "\n",
    "print(f\"Accuracy: {accuracy_log_reg}\")\n",
    "print(\"Classification Report:\")\n",
    "print(report_log_reg)"
   ]
  },
  {
   "cell_type": "code",
   "execution_count": 244,
   "metadata": {},
   "outputs": [
    {
     "name": "stdout",
     "output_type": "stream",
     "text": [
      "Accuracy: 0.915131906421105\n",
      "Classification Report:\n",
      "              precision    recall  f1-score   support\n",
      "\n",
      "           0       0.95      0.95      0.95     23016\n",
      "           1       0.76      0.77      0.77      5110\n",
      "\n",
      "    accuracy                           0.92     28126\n",
      "   macro avg       0.86      0.86      0.86     28126\n",
      "weighted avg       0.92      0.92      0.92     28126\n",
      "\n"
     ]
    }
   ],
   "source": [
    "from sklearn.neighbors import KNeighborsClassifier\n",
    "\n",
    "# Initialize the KNN classifier\n",
    "knn_clf = KNeighborsClassifier(n_neighbors=5)\n",
    "\n",
    "# Train the model\n",
    "knn_clf.fit(X_train, y_train)\n",
    "\n",
    "# Make predictions on the test set\n",
    "y_pred_knn = knn_clf.predict(X_test)\n",
    "\n",
    "# Evaluate the model\n",
    "accuracy_knn = accuracy_score(y_test, y_pred_knn)\n",
    "report_knn = classification_report(y_test, y_pred_knn)\n",
    "\n",
    "print(f\"Accuracy: {accuracy_knn}\")\n",
    "print(\"Classification Report:\")\n",
    "print(report_knn)"
   ]
  },
  {
   "cell_type": "code",
   "execution_count": 245,
   "metadata": {},
   "outputs": [
    {
     "name": "stdout",
     "output_type": "stream",
     "text": [
      "WARNING:tensorflow:From c:\\Users\\Deep\\AppData\\Local\\Programs\\Python\\Python311\\Lib\\site-packages\\keras\\src\\losses.py:2976: The name tf.losses.sparse_softmax_cross_entropy is deprecated. Please use tf.compat.v1.losses.sparse_softmax_cross_entropy instead.\n",
      "\n",
      "WARNING:tensorflow:From c:\\Users\\Deep\\AppData\\Local\\Programs\\Python\\Python311\\Lib\\site-packages\\keras\\src\\backend.py:873: The name tf.get_default_graph is deprecated. Please use tf.compat.v1.get_default_graph instead.\n",
      "\n",
      "Epoch 1/20\n",
      "WARNING:tensorflow:From c:\\Users\\Deep\\AppData\\Local\\Programs\\Python\\Python311\\Lib\\site-packages\\keras\\src\\utils\\tf_utils.py:492: The name tf.ragged.RaggedTensorValue is deprecated. Please use tf.compat.v1.ragged.RaggedTensorValue instead.\n",
      "\n",
      "WARNING:tensorflow:From c:\\Users\\Deep\\AppData\\Local\\Programs\\Python\\Python311\\Lib\\site-packages\\keras\\src\\engine\\base_layer_utils.py:384: The name tf.executing_eagerly_outside_functions is deprecated. Please use tf.compat.v1.executing_eagerly_outside_functions instead.\n",
      "\n",
      "1758/1758 [==============================] - 7s 3ms/step - loss: 0.2387 - accuracy: 0.8998 - val_loss: 0.1661 - val_accuracy: 0.9322\n",
      "Epoch 2/20\n",
      "1758/1758 [==============================] - 6s 3ms/step - loss: 0.1881 - accuracy: 0.9250 - val_loss: 0.1620 - val_accuracy: 0.9356\n",
      "Epoch 3/20\n",
      "1758/1758 [==============================] - 6s 3ms/step - loss: 0.1811 - accuracy: 0.9288 - val_loss: 0.1605 - val_accuracy: 0.9358\n",
      "Epoch 4/20\n",
      "1758/1758 [==============================] - 6s 3ms/step - loss: 0.1774 - accuracy: 0.9298 - val_loss: 0.1596 - val_accuracy: 0.9370\n",
      "Epoch 5/20\n",
      "1758/1758 [==============================] - 6s 3ms/step - loss: 0.1750 - accuracy: 0.9319 - val_loss: 0.1594 - val_accuracy: 0.9375\n",
      "Epoch 6/20\n",
      "1758/1758 [==============================] - 6s 3ms/step - loss: 0.1735 - accuracy: 0.9320 - val_loss: 0.1586 - val_accuracy: 0.9378\n",
      "Epoch 7/20\n",
      "1758/1758 [==============================] - 7s 4ms/step - loss: 0.1723 - accuracy: 0.9330 - val_loss: 0.1578 - val_accuracy: 0.9379\n",
      "Epoch 8/20\n",
      "1758/1758 [==============================] - 8s 5ms/step - loss: 0.1712 - accuracy: 0.9332 - val_loss: 0.1579 - val_accuracy: 0.9378\n",
      "Epoch 9/20\n",
      "1758/1758 [==============================] - 8s 5ms/step - loss: 0.1698 - accuracy: 0.9337 - val_loss: 0.1579 - val_accuracy: 0.9379\n",
      "Epoch 10/20\n",
      "1758/1758 [==============================] - 8s 5ms/step - loss: 0.1699 - accuracy: 0.9334 - val_loss: 0.1577 - val_accuracy: 0.9380\n",
      "Epoch 11/20\n",
      "1758/1758 [==============================] - 9s 5ms/step - loss: 0.1686 - accuracy: 0.9345 - val_loss: 0.1576 - val_accuracy: 0.9382\n",
      "Epoch 12/20\n",
      "1758/1758 [==============================] - 6s 4ms/step - loss: 0.1675 - accuracy: 0.9342 - val_loss: 0.1576 - val_accuracy: 0.9379\n",
      "Epoch 13/20\n",
      "1758/1758 [==============================] - 6s 3ms/step - loss: 0.1672 - accuracy: 0.9349 - val_loss: 0.1574 - val_accuracy: 0.9379\n",
      "Epoch 14/20\n",
      "1758/1758 [==============================] - 6s 3ms/step - loss: 0.1667 - accuracy: 0.9340 - val_loss: 0.1571 - val_accuracy: 0.9380\n",
      "Epoch 15/20\n",
      "1758/1758 [==============================] - 6s 3ms/step - loss: 0.1661 - accuracy: 0.9347 - val_loss: 0.1574 - val_accuracy: 0.9380\n",
      "Epoch 16/20\n",
      "1758/1758 [==============================] - 6s 3ms/step - loss: 0.1658 - accuracy: 0.9349 - val_loss: 0.1578 - val_accuracy: 0.9381\n",
      "Epoch 17/20\n",
      "1758/1758 [==============================] - 6s 3ms/step - loss: 0.1652 - accuracy: 0.9357 - val_loss: 0.1570 - val_accuracy: 0.9381\n",
      "Epoch 18/20\n",
      "1758/1758 [==============================] - 5s 3ms/step - loss: 0.1646 - accuracy: 0.9353 - val_loss: 0.1572 - val_accuracy: 0.9380\n",
      "Epoch 19/20\n",
      "1758/1758 [==============================] - 6s 3ms/step - loss: 0.1650 - accuracy: 0.9348 - val_loss: 0.1578 - val_accuracy: 0.9380\n",
      "Epoch 20/20\n",
      "1758/1758 [==============================] - 6s 3ms/step - loss: 0.1649 - accuracy: 0.9349 - val_loss: 0.1573 - val_accuracy: 0.9380\n",
      "879/879 [==============================] - 2s 2ms/step - loss: 0.1573 - accuracy: 0.9380\n",
      "Accuracy: 0.938028872013092\n"
     ]
    },
    {
     "data": {
      "image/png": "[encoded data removed]",
      "text/plain": [
       "<Figure size 640x480 with 1 Axes>"
      ]
     },
     "metadata": {},
     "output_type": "display_data"
    }
   ],
   "source": [
    "import tensorflow as tf\n",
    "from tensorflow.keras.models import Sequential\n",
    "from tensorflow.keras.layers import Dense, Dropout\n",
    "from tensorflow.keras.optimizers import Adagrad\n",
    "from sklearn.preprocessing import StandardScaler\n",
    "\n",
    "# Standardize the data\n",
    "scaler = StandardScaler()\n",
    "X_train_scaled = scaler.fit_transform(X_train)\n",
    "X_test_scaled = scaler.transform(X_test)\n",
    "\n",
    "# Define the neural network model\n",
    "model = Sequential()\n",
    "model.add(Dense(128, input_dim=X_train.shape[1], activation='relu'))\n",
    "model.add(Dropout(0.5))\n",
    "model.add(Dense(64, activation='relu'))\n",
    "model.add(Dropout(0.5))\n",
    "model.add(Dense(32, activation='relu'))\n",
    "model.add(Dense(1, activation='sigmoid'))\n",
    "\n",
    "# Compile the model with AdaGrad optimizer\n",
    "model.compile(optimizer=Adagrad(learning_rate=0.01), loss='binary_crossentropy', metrics=['accuracy'])\n",
    "\n",
    "# Train the model\n",
    "history = model.fit(X_train_scaled, y_train, epochs=20, batch_size=64, validation_data=(X_test_scaled, y_test))\n",
    "\n",
    "# Evaluate the model\n",
    "loss, accuracy = model.evaluate(X_test_scaled, y_test)\n",
    "print(f\"Accuracy: {accuracy}\")\n",
    "\n",
    "# Plot the training and validation accuracy\n",
    "import matplotlib.pyplot as plt\n",
    "\n",
    "plt.plot(history.history['accuracy'], label='Training Accuracy')\n",
    "plt.plot(history.history['val_accuracy'], label='Validation Accuracy')\n",
    "plt.xlabel('Epochs')\n",
    "plt.ylabel('Accuracy')\n",
    "plt.legend()\n",
    "plt.show()"
   ]
  },
  {
   "cell_type": "code",
   "execution_count": 246,
   "metadata": {},
   "outputs": [
    {
     "name": "stdout",
     "output_type": "stream",
     "text": [
      "Accuracy: 0.9023679158074379\n",
      "Classification Report:\n",
      "              precision    recall  f1-score   support\n",
      "\n",
      "           0       0.94      0.94      0.94     23016\n",
      "           1       0.72      0.75      0.74      5110\n",
      "\n",
      "    accuracy                           0.90     28126\n",
      "   macro avg       0.83      0.84      0.84     28126\n",
      "weighted avg       0.90      0.90      0.90     28126\n",
      "\n"
     ]
    }
   ],
   "source": [
    "from sklearn.tree import DecisionTreeClassifier\n",
    "\n",
    "# Initialize the DecisionTreeClassifier\n",
    "clf = DecisionTreeClassifier(random_state=42)\n",
    "\n",
    "# Train the model\n",
    "clf.fit(X_train, y_train)\n",
    "\n",
    "# Make predictions on the test set\n",
    "y_pred = clf.predict(X_test)\n",
    "\n",
    "# Evaluate the model\n",
    "accuracy = accuracy_score(y_test, y_pred)\n",
    "report = classification_report(y_test, y_pred)\n",
    "\n",
    "print(f\"Accuracy: {accuracy}\")\n",
    "print(\"Classification Report:\")\n",
    "print(report)"
   ]
  },
  {
   "cell_type": "code",
   "execution_count": 247,
   "metadata": {},
   "outputs": [
    {
     "name": "stdout",
     "output_type": "stream",
     "text": [
      "Accuracy: 0.9372466756737539\n",
      "Classification Report:\n",
      "              precision    recall  f1-score   support\n",
      "\n",
      "           0       0.96      0.97      0.96     23016\n",
      "           1       0.84      0.80      0.82      5110\n",
      "\n",
      "    accuracy                           0.94     28126\n",
      "   macro avg       0.90      0.88      0.89     28126\n",
      "weighted avg       0.94      0.94      0.94     28126\n",
      "\n"
     ]
    }
   ],
   "source": [
    "from sklearn.ensemble import RandomForestClassifier\n",
    "\n",
    "# Initialize the RandomForestClassifier\n",
    "rf_clf = RandomForestClassifier(random_state=42)\n",
    "\n",
    "# Train the model\n",
    "rf_clf.fit(X_train, y_train)\n",
    "\n",
    "# Make predictions on the test set\n",
    "y_pred_rf = rf_clf.predict(X_test)\n",
    "\n",
    "# Evaluate the model\n",
    "accuracy_rf = accuracy_score(y_test, y_pred_rf)\n",
    "report_rf = classification_report(y_test, y_pred_rf)\n",
    "\n",
    "print(f\"Accuracy: {accuracy_rf}\")\n",
    "print(\"Classification Report:\")\n",
    "print(report_rf)"
   ]
  },
  {
   "cell_type": "code",
   "execution_count": 248,
   "metadata": {},
   "outputs": [
    {
     "name": "stdout",
     "output_type": "stream",
     "text": [
      "Accuracy: 0.898385835170305\n",
      "Classification Report:\n",
      "              precision    recall  f1-score   support\n",
      "\n",
      "           0       0.96      0.91      0.94     23016\n",
      "           1       0.68      0.83      0.75      5110\n",
      "\n",
      "    accuracy                           0.90     28126\n",
      "   macro avg       0.82      0.87      0.84     28126\n",
      "weighted avg       0.91      0.90      0.90     28126\n",
      "\n"
     ]
    }
   ],
   "source": [
    "from sklearn.naive_bayes import GaussianNB\n",
    "\n",
    "# Initialize the GaussianNB model\n",
    "nb_clf = GaussianNB()\n",
    "\n",
    "# Train the model\n",
    "nb_clf.fit(X_train, y_train)\n",
    "\n",
    "# Make predictions on the test set\n",
    "y_pred_nb = nb_clf.predict(X_test)\n",
    "\n",
    "# Evaluate the model\n",
    "accuracy_nb = accuracy_score(y_test, y_pred_nb)\n",
    "report_nb = classification_report(y_test, y_pred_nb)\n",
    "\n",
    "print(f\"Accuracy: {accuracy_nb}\")\n",
    "print(\"Classification Report:\")\n",
    "print(report_nb)"
   ]
  },
  {
   "cell_type": "code",
   "execution_count": 249,
   "metadata": {},
   "outputs": [
    {
     "name": "stdout",
     "output_type": "stream",
     "text": [
      "Accuracy: 0.9389177273696935\n",
      "Classification Report:\n",
      "              precision    recall  f1-score   support\n",
      "\n",
      "           0       0.96      0.96      0.96     23016\n",
      "           1       0.83      0.83      0.83      5110\n",
      "\n",
      "    accuracy                           0.94     28126\n",
      "   macro avg       0.90      0.90      0.90     28126\n",
      "weighted avg       0.94      0.94      0.94     28126\n",
      "\n"
     ]
    }
   ],
   "source": [
    "from sklearn.neural_network import MLPClassifier\n",
    "\n",
    "# Initialize the MLPClassifier\n",
    "mlp_clf = MLPClassifier(hidden_layer_sizes=(100,), max_iter=300, random_state=42)\n",
    "\n",
    "# Train the model\n",
    "mlp_clf.fit(X_train, y_train)\n",
    "\n",
    "# Make predictions on the test set\n",
    "y_pred_mlp = mlp_clf.predict(X_test)\n",
    "\n",
    "# Evaluate the model\n",
    "accuracy_mlp = accuracy_score(y_test, y_pred_mlp)\n",
    "report_mlp = classification_report(y_test, y_pred_mlp)\n",
    "\n",
    "print(f\"Accuracy: {accuracy_mlp}\")\n",
    "print(\"Classification Report:\")\n",
    "print(report_mlp)"
   ]
  },
  {
   "cell_type": "code",
   "execution_count": 250,
   "metadata": {},
   "outputs": [
    {
     "name": "stdout",
     "output_type": "stream",
     "text": [
      "   Serial Number           Model Name  Accuracy\n",
      "0              1        Decision Tree  0.902368\n",
      "1              2  K-Nearest Neighbors  0.915132\n",
      "2              3  Logistic Regression  0.937353\n",
      "3              4       MLP Classifier  0.938918\n",
      "4              5          Naive Bayes  0.898386\n",
      "5              6        Random Forest  0.937247\n"
     ]
    }
   ],
   "source": [
    "# Create a dictionary with model names and their corresponding accuracies\n",
    "model_accuracies = {\n",
    "    \"Model Name\": [\"Decision Tree\", \"K-Nearest Neighbors\", \"Logistic Regression\", \"MLP Classifier\", \"Naive Bayes\", \"Random Forest\"],\n",
    "    \"Accuracy\": [accuracy, accuracy_knn, accuracy_log_reg, accuracy_mlp, accuracy_nb, accuracy_rf]\n",
    "}\n",
    "\n",
    "# Create a DataFrame from the dictionary\n",
    "accuracy_df = pd.DataFrame(model_accuracies)\n",
    "\n",
    "# Add a serial number column\n",
    "accuracy_df.insert(0, \"Serial Number\", range(1, 1 + len(accuracy_df)))\n",
    "\n",
    "print(accuracy_df)"
   ]
  }
 ],
 "metadata": {
  "kernelspec": {
   "display_name": "Python 3",
   "language": "python",
   "name": "python3"
  },
  "language_info": {
   "codemirror_mode": {
    "name": "ipython",
    "version": 3
   },
   "file_extension": ".py",
   "mimetype": "text/x-python",
   "name": "python",
   "nbconvert_exporter": "python",
   "pygments_lexer": "ipython3",
   "version": "3.11.8"
  }
 },
 "nbformat": 4,
 "nbformat_minor": 2
}
